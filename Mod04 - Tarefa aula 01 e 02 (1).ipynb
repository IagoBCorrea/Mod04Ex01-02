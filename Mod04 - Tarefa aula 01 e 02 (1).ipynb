{
 "cells": [
  {
   "cell_type": "markdown",
   "metadata": {},
   "source": [
    "# Tarefa 01\n",
    "\n",
    "- Leia os enunciados com atenção\n",
    "- Saiba que pode haver mais de uma resposta correta\n",
    "- Insira novas células de código sempre que achar necessário\n",
    "- Em caso de dúvidas, procure os tutores\n",
    "- Divirta-se :)\n",
    "\n",
    "#### 1)  crie uma série do pandas a partir de uma lista com os dados abaixo:\n",
    "\n",
    "Em um estudo sobre alteração na tempreatura global, A NASA disponibiliza dados de diferenças de de temperatura média da superfície terrestre relativos às médias de temperatura entre 1951 e 1980. Os dados originais podem ser vistos no site da NASA/GISS, e estão dispostos a cada década na tabela abaixo.\n",
    "\n",
    "|ano|anomalia termica|\n",
    "|:-:|:----:|\n",
    "| 1900 | -0.08 |\n",
    "| 1920 | -0.27 |\n",
    "| 1940 | 0.12 |\n",
    "| 1960 | -0.03 |\n",
    "| 1980 | 0.26 |\n",
    "| 2000 | 0.40 |\n",
    "| 2020 | 1.02 |\n",
    "\n",
    "Crie uma séries do Pandas a partir de uma lista com esses dados."
   ]
  },
  {
   "cell_type": "code",
   "execution_count": 1,
   "metadata": {},
   "outputs": [
    {
     "name": "stdout",
     "output_type": "stream",
     "text": [
      "1900   -0.08\n",
      "1920   -0.27\n",
      "1940    0.12\n",
      "1960   -0.03\n",
      "1980    0.26\n",
      "2000    0.40\n",
      "2020    1.02\n",
      "dtype: float64\n"
     ]
    }
   ],
   "source": [
    "import pandas as pd\n",
    "import numpy as np\n",
    "\n",
    "# Seu código aqui\n",
    "\n",
    "# Dados\n",
    "dados = {\n",
    "    'ano': [1900, 1920, 1940, 1960, 1980, 2000, 2020],\n",
    "    'anomalia_termica': [-0.08, -0.27, 0.12, -0.03, 0.26, 0.40, 1.02]\n",
    "}\n",
    "\n",
    "# Criar a série\n",
    "serie = pd.Series(dados['anomalia_termica'], index=dados['ano'])\n",
    "\n",
    "# Exibir a série\n",
    "print(serie)\n"
   ]
  },
  {
   "cell_type": "markdown",
   "metadata": {},
   "source": [
    "#### 2) Coloque os anos nos índices conforme a tabela."
   ]
  },
  {
   "cell_type": "code",
   "execution_count": 4,
   "metadata": {},
   "outputs": [
    {
     "name": "stdout",
     "output_type": "stream",
     "text": [
      "1900   -0.08\n",
      "1920   -0.27\n",
      "1940    0.12\n",
      "1960   -0.03\n",
      "1980    0.26\n",
      "2000    0.40\n",
      "2020    1.02\n",
      "dtype: float64\n"
     ]
    }
   ],
   "source": [
    "\n",
    "# seu código aqui\n",
    "dados = {\n",
    "    'anomalia_termica': [-0.08, -0.27, 0.12, -0.03, 0.26, 0.40, 1.02]\n",
    "}\n",
    "\n",
    "# Anos para índices\n",
    "anos = [1900, 1920, 1940, 1960, 1980, 2000, 2020]\n",
    "\n",
    "# Criar a série com os anos como índices\n",
    "serie = pd.Series(dados['anomalia_termica'], index=anos)\n",
    "\n",
    "# Exibir a série\n",
    "print(serie)"
   ]
  },
  {
   "cell_type": "markdown",
   "metadata": {},
   "source": [
    "#### 3) A partir do dicionário abaixo, crie uma séries do Pandas:"
   ]
  },
  {
   "cell_type": "code",
   "execution_count": 5,
   "metadata": {},
   "outputs": [
    {
     "name": "stdout",
     "output_type": "stream",
     "text": [
      "1900   -0.08\n",
      "1920   -0.27\n",
      "1940    0.12\n",
      "1960   -0.03\n",
      "1980    0.26\n",
      "2000    0.40\n",
      "2020    1.02\n",
      "dtype: float64\n"
     ]
    }
   ],
   "source": [
    "dic_temperaturas = {1900: -.08, 1920: -.27, 1940: .12, 1960: -.03, 1980: .26, 2000: .40, 2020: 1.02}\n",
    "\n",
    "# seu código aqui\n",
    "\n",
    "# Criar a série\n",
    "serie_temperaturas = pd.Series(dic_temperaturas)\n",
    "\n",
    "# Exibir a série\n",
    "print(serie_temperaturas)"
   ]
  },
  {
   "cell_type": "markdown",
   "metadata": {},
   "source": [
    "#### 4) Transforme o ndarray abaixo em um dataframe. \n",
    "O numpy é capaz de gerar arrays n-dimensionais com números pseudo-aleatórios de acordo com uma variedade de distribuições, como no exemplo abaixo. Transforme esse nd-array em um DataFrame."
   ]
  },
  {
   "cell_type": "code",
   "execution_count": 6,
   "metadata": {},
   "outputs": [
    {
     "name": "stdout",
     "output_type": "stream",
     "text": [
      "             0           1           2\n",
      "0   116.509034  101.379623   95.507730\n",
      "1   109.226503   96.427270   99.093492\n",
      "2   104.916217   99.106889  101.580558\n",
      "3    88.913910  106.137655  101.515221\n",
      "4   107.578193  102.200454  103.913991\n",
      "5    92.854505  107.714997  101.053448\n",
      "6   105.574125  115.062155  100.216643\n",
      "7    71.207593   98.221087  102.706230\n",
      "8   100.885939  121.416796  101.587557\n",
      "9   105.879577   99.035543  107.058900\n",
      "10  100.159076  116.780716  111.729114\n",
      "11  101.547005   93.949776  109.040512\n",
      "12  114.847652  105.503327   85.039638\n",
      "13   97.689743  111.300670  115.732221\n",
      "14   95.259190  110.350062   93.796693\n",
      "15   93.273986  118.826664   89.727459\n",
      "16  107.136577  100.121459   97.750801\n",
      "17  107.445047   98.538961   96.798947\n",
      "18   96.823710  107.603229   88.155275\n",
      "19  102.197263  115.773851  104.964996\n"
     ]
    }
   ],
   "source": [
    "arr = np.random.normal(100, 10, (20,3))\n",
    "\n",
    "# seu código aqui\n",
    "\n",
    "# Transformar em DataFrame\n",
    "df = pd.DataFrame(arr)\n",
    "\n",
    "# Exibir o DataFrame\n",
    "print(df)"
   ]
  },
  {
   "cell_type": "markdown",
   "metadata": {},
   "source": [
    "#### 5) Nomeie os índices das linhas com inteiros de 1 a 20, e as colunas com os nomes \"x1\", \"x2\", e \"x3\" respectivamente."
   ]
  },
  {
   "cell_type": "code",
   "execution_count": 7,
   "metadata": {},
   "outputs": [
    {
     "name": "stdout",
     "output_type": "stream",
     "text": [
      "            x1          x2          x3\n",
      "1   116.509034  101.379623   95.507730\n",
      "2   109.226503   96.427270   99.093492\n",
      "3   104.916217   99.106889  101.580558\n",
      "4    88.913910  106.137655  101.515221\n",
      "5   107.578193  102.200454  103.913991\n",
      "6    92.854505  107.714997  101.053448\n",
      "7   105.574125  115.062155  100.216643\n",
      "8    71.207593   98.221087  102.706230\n",
      "9   100.885939  121.416796  101.587557\n",
      "10  105.879577   99.035543  107.058900\n",
      "11  100.159076  116.780716  111.729114\n",
      "12  101.547005   93.949776  109.040512\n",
      "13  114.847652  105.503327   85.039638\n",
      "14   97.689743  111.300670  115.732221\n",
      "15   95.259190  110.350062   93.796693\n",
      "16   93.273986  118.826664   89.727459\n",
      "17  107.136577  100.121459   97.750801\n",
      "18  107.445047   98.538961   96.798947\n",
      "19   96.823710  107.603229   88.155275\n",
      "20  102.197263  115.773851  104.964996\n"
     ]
    }
   ],
   "source": [
    "#seu código aqui\n",
    "\n",
    "# Transformar em DataFrame\n",
    "df = pd.DataFrame(arr)\n",
    "\n",
    "# Nomear os índices das linhas\n",
    "df.index = range(1, 21)\n",
    "\n",
    "# Nomear as colunas\n",
    "df.columns = ['x1', 'x2', 'x3']\n",
    "\n",
    "# Exibir o DataFrame\n",
    "print(df)"
   ]
  },
  {
   "cell_type": "markdown",
   "metadata": {},
   "source": [
    "#### 6) No DataFrame do exercício 5, crie uma nova coluna como sendo a média das três colunas, e dê a ela o nome de \"media\" (não recomendo colocar acentos em nomes de variáveis)."
   ]
  },
  {
   "cell_type": "code",
   "execution_count": 8,
   "metadata": {},
   "outputs": [
    {
     "name": "stdout",
     "output_type": "stream",
     "text": [
      "            x1          x2          x3       media\n",
      "1   116.509034  101.379623   95.507730  104.465462\n",
      "2   109.226503   96.427270   99.093492  101.582422\n",
      "3   104.916217   99.106889  101.580558  101.867888\n",
      "4    88.913910  106.137655  101.515221   98.855595\n",
      "5   107.578193  102.200454  103.913991  104.564213\n",
      "6    92.854505  107.714997  101.053448  100.540983\n",
      "7   105.574125  115.062155  100.216643  106.950974\n",
      "8    71.207593   98.221087  102.706230   90.711637\n",
      "9   100.885939  121.416796  101.587557  107.963431\n",
      "10  105.879577   99.035543  107.058900  103.991340\n",
      "11  100.159076  116.780716  111.729114  109.556302\n",
      "12  101.547005   93.949776  109.040512  101.512431\n",
      "13  114.847652  105.503327   85.039638  101.796872\n",
      "14   97.689743  111.300670  115.732221  108.240878\n",
      "15   95.259190  110.350062   93.796693   99.801981\n",
      "16   93.273986  118.826664   89.727459  100.609370\n",
      "17  107.136577  100.121459   97.750801  101.669612\n",
      "18  107.445047   98.538961   96.798947  100.927652\n",
      "19   96.823710  107.603229   88.155275   97.527405\n",
      "20  102.197263  115.773851  104.964996  107.645370\n"
     ]
    }
   ],
   "source": [
    "# seu código aqui\n",
    "\n",
    "# Calcular a média das três colunas\n",
    "df['media'] = df.mean(axis=1)\n",
    "\n",
    "# Exibir o DataFrame com a nova coluna\n",
    "print(df)"
   ]
  },
  {
   "cell_type": "markdown",
   "metadata": {},
   "source": [
    "#### 7) No DataFrame do exercício 6, crie uma nova coluna chamada \"log_med\", contendo o logaritmo natural da média calculada no exercício 6 <br>"
   ]
  },
  {
   "cell_type": "code",
   "execution_count": 9,
   "metadata": {},
   "outputs": [
    {
     "name": "stdout",
     "output_type": "stream",
     "text": [
      "            x1          x2          x3       media   log_med\n",
      "1   116.509034  101.379623   95.507730  104.465462  4.648857\n",
      "2   109.226503   96.427270   99.093492  101.582422  4.620871\n",
      "3   104.916217   99.106889  101.580558  101.867888  4.623677\n",
      "4    88.913910  106.137655  101.515221   98.855595  4.593660\n",
      "5   107.578193  102.200454  103.913991  104.564213  4.649801\n",
      "6    92.854505  107.714997  101.053448  100.540983  4.610565\n",
      "7   105.574125  115.062155  100.216643  106.950974  4.672371\n",
      "8    71.207593   98.221087  102.706230   90.711637  4.507686\n",
      "9   100.885939  121.416796  101.587557  107.963431  4.681793\n",
      "10  105.879577   99.035543  107.058900  103.991340  4.644308\n",
      "11  100.159076  116.780716  111.729114  109.556302  4.696439\n",
      "12  101.547005   93.949776  109.040512  101.512431  4.620181\n",
      "13  114.847652  105.503327   85.039638  101.796872  4.622979\n",
      "14   97.689743  111.300670  115.732221  108.240878  4.684359\n",
      "15   95.259190  110.350062   93.796693   99.801981  4.603188\n",
      "16   93.273986  118.826664   89.727459  100.609370  4.611245\n",
      "17  107.136577  100.121459   97.750801  101.669612  4.621728\n",
      "18  107.445047   98.538961   96.798947  100.927652  4.614404\n",
      "19   96.823710  107.603229   88.155275   97.527405  4.580133\n",
      "20  102.197263  115.773851  104.964996  107.645370  4.678842\n"
     ]
    }
   ],
   "source": [
    "# seu código aqui\n",
    "\n",
    "# Calcular o logaritmo natural da média e atribuir à nova coluna\n",
    "df['log_med'] = np.log(df['media'])\n",
    "\n",
    "# Exibir o DataFrame com a nova coluna\n",
    "print(df)"
   ]
  },
  {
   "cell_type": "code",
   "execution_count": null,
   "metadata": {},
   "outputs": [],
   "source": []
  }
 ],
 "metadata": {
  "kernelspec": {
   "display_name": "Python 3 (ipykernel)",
   "language": "python",
   "name": "python3"
  },
  "language_info": {
   "codemirror_mode": {
    "name": "ipython",
    "version": 3
   },
   "file_extension": ".py",
   "mimetype": "text/x-python",
   "name": "python",
   "nbconvert_exporter": "python",
   "pygments_lexer": "ipython3",
   "version": "3.11.7"
  }
 },
 "nbformat": 4,
 "nbformat_minor": 4
}
